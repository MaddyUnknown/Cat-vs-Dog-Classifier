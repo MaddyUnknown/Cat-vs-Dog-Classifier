{
 "cells": [
  {
   "cell_type": "markdown",
   "metadata": {},
   "source": [
    "## Augmentation of data"
   ]
  },
  {
   "cell_type": "code",
   "execution_count": 11,
   "metadata": {},
   "outputs": [],
   "source": [
    "import torch\n",
    "import torch.nn as nn\n",
    "from torch.utils.data import Dataset, DataLoader \n",
    "from torchvision import transforms\n",
    "from torch.autograd import Variable\n",
    "import numpy as np\n",
    "import pandas as pd\n",
    "import matplotlib.pyplot as plt\n",
    "import os\n",
    "import random\n",
    "from PIL  import Image, ImageOps\n",
    "import time"
   ]
  },
  {
   "cell_type": "code",
   "execution_count": 12,
   "metadata": {},
   "outputs": [],
   "source": [
    "class Reshape(object):\n",
    "    def __call__(self, sample):\n",
    "        image , label = sample['image'], sample['label']\n",
    "        image = image.resize((120,120), Image.ANTIALIAS)\n",
    "        return {'image': image, 'label': label}"
   ]
  },
  {
   "cell_type": "code",
   "execution_count": 13,
   "metadata": {},
   "outputs": [],
   "source": [
    "class roi(object):\n",
    "    def __call__(self, sample):\n",
    "        image, label = sample['image'], sample['label']\n",
    "        size = (random.randint(120,240),random.randint(120,240))\n",
    "        image = image.resize(size, Image.ANTIALIAS)\n",
    "        size = image.size\n",
    "        if size[0]>=120:\n",
    "            width = random.randint(120, size[0])\n",
    "        else:\n",
    "            width = size[0]\n",
    "        if size[1]>=120:\n",
    "            height = random.randint(120, size[1])\n",
    "        else:\n",
    "            height = size[1]\n",
    "        x = random.randint(0,size[0]-width)\n",
    "        y = random.randint(0, size[1]-height)\n",
    "        image = image.crop((x,y,x+width, y+height))\n",
    "        return {'image': image, 'label': label}"
   ]
  },
  {
   "cell_type": "code",
   "execution_count": 14,
   "metadata": {},
   "outputs": [],
   "source": [
    "class flip(object):\n",
    "    def __call__(self, sample):\n",
    "        image, label = sample['image'], sample['label']\n",
    "        if random.randint(1,100)< 10:\n",
    "            image = ImageOps.flip(image)\n",
    "        return {'image': image, 'label': label}"
   ]
  },
  {
   "cell_type": "code",
   "execution_count": 15,
   "metadata": {},
   "outputs": [],
   "source": [
    "class mirror(object):\n",
    "    def __call__(self, sample):\n",
    "        image, label = sample['image'], sample['label']\n",
    "        if random.randint(0,1)== 1:\n",
    "            image = ImageOps.mirror(image)\n",
    "        return {'image': image, 'label': label}"
   ]
  },
  {
   "cell_type": "code",
   "execution_count": 16,
   "metadata": {},
   "outputs": [],
   "source": [
    "class CatDogDataset(Dataset):\n",
    "    \n",
    "    def __init__(self, root_dir, file,  transform=None, isval=False):\n",
    "        self.root_dir = root_dir\n",
    "        self.transform = transform\n",
    "        if isval==True:\n",
    "            self.val_size = 2000\n",
    "        if(os.path.exists(os.path.join(self.root_dir, file))):\n",
    "            self.csv = pd.read_csv(os.path.join(self.root_dir, file), header=None)\n",
    "            if isval==True:\n",
    "                self.csv = self.csv[:self.val_size]\n",
    "            print(\"Found the csv!!..\")\n",
    "        else:\n",
    "            self.create(os.path.join(self.root_dir, file))\n",
    "            print(\"Not Found the csv!!..\")\n",
    "            \n",
    "    def create(self, csv_path):\n",
    "        dataset = np.array([])\n",
    "        classes = os.listdir(self.root_dir)\n",
    "        self.csv = []\n",
    "        for i in range(len(classes)):\n",
    "            self.csv.extend([[os.path.join(classes[i],j), i]for j in os.listdir(os.path.join(self.root_dir, classes[i]))])\n",
    "        random.shuffle(self.csv)\n",
    "        self.csv = pd.DataFrame(self.csv)\n",
    "        self.csv.to_csv(csv_path, index=False, header = False)\n",
    "    \n",
    "    def numcatdog(self):\n",
    "        count=0\n",
    "        for i in range(len(self.csv)):\n",
    "            if self.csv.iloc[i,1]==1:\n",
    "                count +=1\n",
    "        return count\n",
    "    \n",
    "    def __len__(self):\n",
    "        return len(self.csv)\n",
    "    \n",
    "    def __getitem__(self, index):\n",
    "        if torch.is_tensor(index):\n",
    "            index = index.tolist()\n",
    "        image_name = os.path.join(self.root_dir, self.csv.iloc[index, 0])\n",
    "        image_label = self.csv.iloc[index, 1]\n",
    "        image = Image.open(image_name)\n",
    "        sample = {'image':image, 'label':image_label}\n",
    "        \n",
    "        if self.transform:\n",
    "            sample = self.transform(sample)\n",
    "        \n",
    "        return sample"
   ]
  },
  {
   "cell_type": "code",
   "execution_count": 17,
   "metadata": {},
   "outputs": [
    {
     "name": "stdout",
     "output_type": "stream",
     "text": [
      "Found the csv!!..\n",
      "Training set len:  8000\n"
     ]
    }
   ],
   "source": [
    "compose = transforms.Compose([Reshape()])\n",
    "trainset = CatDogDataset(r'dataset\\training_set', 'training_data.csv', compose)\n",
    "print(\"Training set len: \", len(trainset))"
   ]
  },
  {
   "cell_type": "code",
   "execution_count": null,
   "metadata": {},
   "outputs": [],
   "source": [
    "s = np.array([])\n",
    "im_name = 0\n",
    "for i in range(7):\n",
    "    for i_batch, sample in enumerate(trainset):\n",
    "        name = str(im_name)+'.jpg'\n",
    "        sample['image'].save('dataset\\\\augmentation_set\\\\augmentation_image\\\\'+name)\n",
    "        if len(s)==0:\n",
    "            s = np.array([[name,sample['label']]])\n",
    "        else:\n",
    "            s = np.append(s, np.array([[name,sample['label']]]), axis=0)\n",
    "        im_name+=1\n",
    "s = pd.DataFrame(s)"
   ]
  },
  {
   "cell_type": "code",
   "execution_count": 19,
   "metadata": {},
   "outputs": [
    {
     "data": {
      "text/plain": [
       "48000"
      ]
     },
     "execution_count": 19,
     "metadata": {},
     "output_type": "execute_result"
    }
   ],
   "source": [
    "im_name"
   ]
  },
  {
   "cell_type": "code",
   "execution_count": 9,
   "metadata": {},
   "outputs": [
    {
     "data": {
      "text/html": [
       "<div>\n",
       "<style scoped>\n",
       "    .dataframe tbody tr th:only-of-type {\n",
       "        vertical-align: middle;\n",
       "    }\n",
       "\n",
       "    .dataframe tbody tr th {\n",
       "        vertical-align: top;\n",
       "    }\n",
       "\n",
       "    .dataframe thead th {\n",
       "        text-align: right;\n",
       "    }\n",
       "</style>\n",
       "<table border=\"1\" class=\"dataframe\">\n",
       "  <thead>\n",
       "    <tr style=\"text-align: right;\">\n",
       "      <th></th>\n",
       "      <th>0</th>\n",
       "      <th>1</th>\n",
       "    </tr>\n",
       "  </thead>\n",
       "  <tbody>\n",
       "    <tr>\n",
       "      <th>0</th>\n",
       "      <td>0.jpg</td>\n",
       "      <td>1</td>\n",
       "    </tr>\n",
       "    <tr>\n",
       "      <th>1</th>\n",
       "      <td>1.jpg</td>\n",
       "      <td>1</td>\n",
       "    </tr>\n",
       "    <tr>\n",
       "      <th>2</th>\n",
       "      <td>2.jpg</td>\n",
       "      <td>0</td>\n",
       "    </tr>\n",
       "    <tr>\n",
       "      <th>3</th>\n",
       "      <td>3.jpg</td>\n",
       "      <td>0</td>\n",
       "    </tr>\n",
       "    <tr>\n",
       "      <th>4</th>\n",
       "      <td>4.jpg</td>\n",
       "      <td>0</td>\n",
       "    </tr>\n",
       "    <tr>\n",
       "      <th>...</th>\n",
       "      <td>...</td>\n",
       "      <td>...</td>\n",
       "    </tr>\n",
       "    <tr>\n",
       "      <th>47995</th>\n",
       "      <td>47995.jpg</td>\n",
       "      <td>1</td>\n",
       "    </tr>\n",
       "    <tr>\n",
       "      <th>47996</th>\n",
       "      <td>47996.jpg</td>\n",
       "      <td>1</td>\n",
       "    </tr>\n",
       "    <tr>\n",
       "      <th>47997</th>\n",
       "      <td>47997.jpg</td>\n",
       "      <td>1</td>\n",
       "    </tr>\n",
       "    <tr>\n",
       "      <th>47998</th>\n",
       "      <td>47998.jpg</td>\n",
       "      <td>1</td>\n",
       "    </tr>\n",
       "    <tr>\n",
       "      <th>47999</th>\n",
       "      <td>47999.jpg</td>\n",
       "      <td>0</td>\n",
       "    </tr>\n",
       "  </tbody>\n",
       "</table>\n",
       "<p>48000 rows × 2 columns</p>\n",
       "</div>"
      ],
      "text/plain": [
       "               0  1\n",
       "0          0.jpg  1\n",
       "1          1.jpg  1\n",
       "2          2.jpg  0\n",
       "3          3.jpg  0\n",
       "4          4.jpg  0\n",
       "...          ... ..\n",
       "47995  47995.jpg  1\n",
       "47996  47996.jpg  1\n",
       "47997  47997.jpg  1\n",
       "47998  47998.jpg  1\n",
       "47999  47999.jpg  0\n",
       "\n",
       "[48000 rows x 2 columns]"
      ]
     },
     "execution_count": 9,
     "metadata": {},
     "output_type": "execute_result"
    }
   ],
   "source": [
    "s"
   ]
  },
  {
   "cell_type": "code",
   "execution_count": 10,
   "metadata": {},
   "outputs": [],
   "source": [
    "s.to_csv(r'dataset\\\\augmentation_set\\\\augmentation.csv', index=False, header=False)"
   ]
  }
 ],
 "metadata": {
  "kernelspec": {
   "display_name": "Python 3",
   "language": "python",
   "name": "python3"
  },
  "language_info": {
   "codemirror_mode": {
    "name": "ipython",
    "version": 3
   },
   "file_extension": ".py",
   "mimetype": "text/x-python",
   "name": "python",
   "nbconvert_exporter": "python",
   "pygments_lexer": "ipython3",
   "version": "3.7.3"
  }
 },
 "nbformat": 4,
 "nbformat_minor": 2
}
