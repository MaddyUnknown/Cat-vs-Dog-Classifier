{
 "cells": [
  {
   "cell_type": "code",
   "execution_count": 1,
   "metadata": {},
   "outputs": [],
   "source": [
    "import torch\n",
    "import torch.nn as nn\n",
    "from torch.utils.data import Dataset, DataLoader \n",
    "from torchvision import transforms\n",
    "from torch.autograd import Variable\n",
    "import numpy as np\n",
    "import pandas as pd\n",
    "import matplotlib.pyplot as plt\n",
    "import os\n",
    "import random\n",
    "from PIL  import Image, ImageOps\n",
    "import time"
   ]
  },
  {
   "cell_type": "markdown",
   "metadata": {},
   "source": [
    "### Dataset Loader"
   ]
  },
  {
   "cell_type": "markdown",
   "metadata": {},
   "source": [
    "#### Data Augmentation"
   ]
  },
  {
   "cell_type": "code",
   "execution_count": 2,
   "metadata": {},
   "outputs": [],
   "source": [
    "class ToTorch(object):\n",
    "    def __call__(self, sample):\n",
    "        image , label = sample['image'], sample['label']\n",
    "        image = image.resize((120,120), Image.ANTIALIAS)\n",
    "        image = np.array(image)\n",
    "        image = image.transpose((2,0,1))\n",
    "        return {'image': torch.from_numpy(image), 'label': torch.from_numpy(np.array([label]))}"
   ]
  },
  {
   "cell_type": "code",
   "execution_count": 3,
   "metadata": {},
   "outputs": [],
   "source": [
    "class roi(object):\n",
    "    def __call__(self, sample):\n",
    "        image, label = sample['image'], sample['label']\n",
    "        size = (random.randint(120,240),random.randint(120,240))\n",
    "        image = image.resize(size, Image.ANTIALIAS)\n",
    "        size = image.size\n",
    "        if size[0]>=120:\n",
    "            width = random.randint(120, size[0])\n",
    "        else:\n",
    "            width = size[0]\n",
    "        if size[1]>=120:\n",
    "            height = random.randint(120, size[1])\n",
    "        else:\n",
    "            height = size[1]\n",
    "        x = random.randint(0,size[0]-width)\n",
    "        y = random.randint(0, size[1]-height)\n",
    "        image = image.crop((x,y,x+width, y+height))\n",
    "        return {'image': image, 'label': label}"
   ]
  },
  {
   "cell_type": "code",
   "execution_count": 4,
   "metadata": {},
   "outputs": [],
   "source": [
    "class flip(object):\n",
    "    def __call__(self, sample):\n",
    "        image, label = sample['image'], sample['label']\n",
    "        if random.randint(1,100)< 10:\n",
    "            image = ImageOps.flip(image)\n",
    "        return {'image': image, 'label': label}"
   ]
  },
  {
   "cell_type": "code",
   "execution_count": 5,
   "metadata": {},
   "outputs": [],
   "source": [
    "class mirror(object):\n",
    "    def __call__(self, sample):\n",
    "        image, label = sample['image'], sample['label']\n",
    "        if random.randint(0,1)== 1:\n",
    "            image = ImageOps.mirror(image)\n",
    "        return {'image': image, 'label': label}"
   ]
  },
  {
   "cell_type": "markdown",
   "metadata": {},
   "source": [
    "#### DataSet Class"
   ]
  },
  {
   "cell_type": "code",
   "execution_count": 6,
   "metadata": {},
   "outputs": [],
   "source": [
    "class CatDogDataset(Dataset):\n",
    "    \n",
    "    def __init__(self, root_dir, csv,  transform=None, isval=False):\n",
    "        self.root_dir = root_dir\n",
    "        self.transform = transform\n",
    "        if isval==True:\n",
    "            self.val_size = 2000\n",
    "        if(os.path.exists(csv)):\n",
    "            self.csv = pd.read_csv(csv, header=None)\n",
    "            if isval==True:\n",
    "                self.csv = self.csv[:self.val_size]\n",
    "            print(\"Found the csv!!..\")\n",
    "        else:\n",
    "            self.create(csv)\n",
    "            print(\"Not Found the csv!!..\")\n",
    "        #print(self.csv)\n",
    "            \n",
    "    def create(self, csv_path):\n",
    "        dataset = np.array([])\n",
    "        classes = os.listdir(self.root_dir)\n",
    "        self.csv = []\n",
    "        for i in range(len(classes)):\n",
    "            self.csv.extend([[os.path.join(classes[i],j), i]for j in os.listdir(os.path.join(self.root_dir, classes[i]))])\n",
    "        random.shuffle(self.csv)\n",
    "        self.csv = pd.DataFrame(self.csv)\n",
    "        self.csv.to_csv(csv_path, index=False, header = False)\n",
    "    \n",
    "    def numcatdog(self):\n",
    "        count=0\n",
    "        for i in range(len(self.csv)):\n",
    "            if self.csv.iloc[i,1]==1:\n",
    "                count +=1\n",
    "        return count\n",
    "    \n",
    "    def __len__(self):\n",
    "        return len(self.csv)\n",
    "    \n",
    "    def __getitem__(self, index):\n",
    "        if torch.is_tensor(index):\n",
    "            index = index.tolist()\n",
    "        image_name = os.path.join(self.root_dir, self.csv.iloc[index, 0])\n",
    "        image_label = self.csv.iloc[index, 1]\n",
    "        image = Image.open(image_name)\n",
    "        sample = {'image':image, 'label':image_label}\n",
    "        \n",
    "        if self.transform:\n",
    "            sample = self.transform(sample)\n",
    "        \n",
    "        return sample"
   ]
  },
  {
   "cell_type": "code",
   "execution_count": 7,
   "metadata": {},
   "outputs": [
    {
     "name": "stdout",
     "output_type": "stream",
     "text": [
      "Found the csv!!..\n",
      "Found the csv!!..\n",
      "Training set len:  56000\n",
      "Val set len:  2000\n"
     ]
    }
   ],
   "source": [
    "compose = transforms.Compose([roi(), mirror(), ToTorch()])\n",
    "trainset = CatDogDataset(r'dataset\\augmentation_set\\augmentation_image',\n",
    "                         r'dataset\\augmentation_set\\augmentation.csv', ToTorch())\n",
    "valset = CatDogDataset(r'dataset\\test_set', r'dataset\\test_set\\test_data.csv', ToTorch(), True)\n",
    "print(\"Training set len: \", len(trainset))\n",
    "print(\"Val set len: \", len(valset))"
   ]
  },
  {
   "cell_type": "code",
   "execution_count": 8,
   "metadata": {},
   "outputs": [
    {
     "name": "stdout",
     "output_type": "stream",
     "text": [
      "Train set:\n",
      "Dogs:  28000 Cats:  28000\n",
      "Validation set:\n",
      "Dogs:  1000 Cats:  1000\n"
     ]
    }
   ],
   "source": [
    "print(\"Train set:\")\n",
    "count = trainset.numcatdog()\n",
    "print(\"Dogs: \",count,\"Cats: \", len(trainset)-count)\n",
    "print(\"Validation set:\")\n",
    "count = valset.numcatdog()\n",
    "print(\"Dogs: \",count,\"Cats: \", len(valset)-count)\n",
    "del(count)"
   ]
  },
  {
   "cell_type": "code",
   "execution_count": 9,
   "metadata": {},
   "outputs": [
    {
     "name": "stdout",
     "output_type": "stream",
     "text": [
      "Length:  56000\n",
      "Image length:  (3, 120, 120)\n",
      "Label: 1 tensor([1])\n"
     ]
    },
    {
     "data": {
      "image/png": "[encoded data removed]",
      "text/plain": [
       "<Figure size 432x288 with 1 Axes>"
      ]
     },
     "metadata": {
      "needs_background": "light"
     },
     "output_type": "display_data"
    }
   ],
   "source": [
    "index = 000\n",
    "t = time.time()\n",
    "sample = trainset[index]\n",
    "print('Length: ',len(trainset))\n",
    "print('Image length: ',sample['image'].numpy().shape)\n",
    "plt.imshow(sample['image'].numpy().transpose((1,2,0)))\n",
    "print('Label:', int(sample['label']), sample['label'])"
   ]
  },
  {
   "cell_type": "code",
   "execution_count": 10,
   "metadata": {},
   "outputs": [],
   "source": [
    "class Net(nn.Module):\n",
    "    def __init__(self):\n",
    "        super(Net, self).__init__()\n",
    "        \n",
    "        self.conv1 = nn.Conv2d(3, 32, 3)\n",
    "        self.batch1 = nn.BatchNorm2d(32)\n",
    "        self.relu1 = nn.ReLU()\n",
    "        self.pool1 = nn.MaxPool2d(2, stride=2)\n",
    "        \n",
    "        #self.dropout1 = nn.Dropout(0.3)\n",
    "        \n",
    "        self.conv2 = nn.Conv2d(32, 64, 3)\n",
    "        self.batch2 = nn.BatchNorm2d(64)\n",
    "        self.relu2 = nn.ReLU()\n",
    "        self.pool2 = nn.MaxPool2d(2, stride=2)\n",
    "        \n",
    "        #self.dropout2 = nn.Dropout(0.1)\n",
    "        \n",
    "        self.conv3 = nn.Conv2d(64, 128 , 3)\n",
    "        self.batch3 = nn.BatchNorm2d(128)\n",
    "        self.relu3 = nn.ReLU()\n",
    "        self.pool3 = nn.MaxPool2d(2, stride=2)\n",
    "        \n",
    "        #self.dropout3 = nn.Dropout(0.25)\n",
    "        \n",
    "        self.fc1 = nn.Linear(13*13*128, 128)\n",
    "        self.relu_fc1 = nn.ReLU()\n",
    "        self.batch_fc1 = nn.BatchNorm1d(128)            #Not In previous model\n",
    "        \n",
    "        #self.dropout4 = nn.Dropout(0.2)\n",
    "        \n",
    "        self.fc2 = nn.Linear(128, 80)\n",
    "        self.relu_fc2 = nn.ReLU()\n",
    "        self.batch_fc2 = nn.BatchNorm1d(80)            #Not In previous model\n",
    "        \n",
    "        #self.dropout5 = nn.Dropout(0.1)\n",
    "        \n",
    "        self.fc3 = nn.Linear(80, 1)\n",
    "        self.sigmoid = nn.Sigmoid()\n",
    "        \n",
    "    def forward(self, x, choice=0):\n",
    "        x = x/225\n",
    "        x = self.conv1(x)\n",
    "        x = self.pool1(self.batch1(self.relu1(x)))\n",
    "\n",
    "        #x = self.dropout1(x)\n",
    "        \n",
    "        x = self.conv2(x)\n",
    "        x = self.pool2(self.batch2(self.relu2(x)))\n",
    "        \n",
    "        #x = self.dropout2(x)\n",
    "\n",
    "        x = self.conv3(x)\n",
    "        x = self.pool3(self.batch3(self.relu3(x)))\n",
    "        \n",
    "        #x = self.dropout3(x)\n",
    "\n",
    "        #print(x.shape)\n",
    "        x = x.view(-1, 13*13*128)\n",
    "        x = self.batch_fc1(self.relu_fc1(self.fc1(x)))\n",
    "\n",
    "        #x = self.dropout4(x)\n",
    "        \n",
    "        x = self.batch_fc2(self.relu_fc2(self.fc2(x)))\n",
    "        \n",
    "\n",
    "        #x = self.dropout5(x)\n",
    "            \n",
    "        x = self.sigmoid(self.fc3(x))\n",
    "        \n",
    "        return x"
   ]
  },
  {
   "cell_type": "code",
   "execution_count": 11,
   "metadata": {},
   "outputs": [
    {
     "name": "stdout",
     "output_type": "stream",
     "text": [
      "Net(\n",
      "  (conv1): Conv2d(3, 32, kernel_size=(3, 3), stride=(1, 1))\n",
      "  (batch1): BatchNorm2d(32, eps=1e-05, momentum=0.1, affine=True, track_running_stats=True)\n",
      "  (relu1): ReLU()\n",
      "  (pool1): MaxPool2d(kernel_size=2, stride=2, padding=0, dilation=1, ceil_mode=False)\n",
      "  (conv2): Conv2d(32, 64, kernel_size=(3, 3), stride=(1, 1))\n",
      "  (batch2): BatchNorm2d(64, eps=1e-05, momentum=0.1, affine=True, track_running_stats=True)\n",
      "  (relu2): ReLU()\n",
      "  (pool2): MaxPool2d(kernel_size=2, stride=2, padding=0, dilation=1, ceil_mode=False)\n",
      "  (conv3): Conv2d(64, 128, kernel_size=(3, 3), stride=(1, 1))\n",
      "  (batch3): BatchNorm2d(128, eps=1e-05, momentum=0.1, affine=True, track_running_stats=True)\n",
      "  (relu3): ReLU()\n",
      "  (pool3): MaxPool2d(kernel_size=2, stride=2, padding=0, dilation=1, ceil_mode=False)\n",
      "  (fc1): Linear(in_features=21632, out_features=128, bias=True)\n",
      "  (relu_fc1): ReLU()\n",
      "  (batch_fc1): BatchNorm1d(128, eps=1e-05, momentum=0.1, affine=True, track_running_stats=True)\n",
      "  (fc2): Linear(in_features=128, out_features=80, bias=True)\n",
      "  (relu_fc2): ReLU()\n",
      "  (batch_fc2): BatchNorm1d(80, eps=1e-05, momentum=0.1, affine=True, track_running_stats=True)\n",
      "  (fc3): Linear(in_features=80, out_features=1, bias=True)\n",
      "  (sigmoid): Sigmoid()\n",
      ")\n"
     ]
    }
   ],
   "source": [
    "model = Net().cuda()\n",
    "print(model)"
   ]
  },
  {
   "cell_type": "code",
   "execution_count": 22,
   "metadata": {},
   "outputs": [
    {
     "data": {
      "text/plain": [
       "Linear(in_features=80, out_features=1, bias=True)"
      ]
     },
     "execution_count": 22,
     "metadata": {},
     "output_type": "execute_result"
    }
   ],
   "source": [
    "#for name, parameters in model.named_parameters():\n",
    "#    print(name, parameters, parameters.grad_fn)\n",
    "model.fc3   "
   ]
  },
  {
   "cell_type": "code",
   "execution_count": null,
   "metadata": {},
   "outputs": [
    {
     "name": "stdout",
     "output_type": "stream",
     "text": [
      "Starting training!!..\\/\n",
      "[ Epoch:   1 ]   Training Loss: 0.123  Val Loss: 0.229\n",
      "[ Epoch:   2 ]   Training Loss: 0.071  Val Loss: 0.256\n",
      "[ Epoch:   3, Mini_Batch:   300]     Loss 0.056\r"
     ]
    }
   ],
   "source": [
    "epoc = 20\n",
    "criteria = nn.BCELoss()\n",
    "optimizer = torch.optim.Adam(model.parameters(), lr = 0.001)\n",
    "trainloader = DataLoader(trainset, batch_size=80, shuffle = True)\n",
    "valloader = DataLoader(valset, batch_size=80)\n",
    "\n",
    "print(\"Starting training!!..\\/\")\n",
    "t = time.time()\n",
    "\n",
    "\n",
    "for i in range(epoc):\n",
    "    cost = 0.0\n",
    "    total_cost = 0.0\n",
    "    size = 0\n",
    "    for i_batch, sample in enumerate(trainloader):\n",
    "        model.train()\n",
    "        x_train = sample['image'].float().cuda()\n",
    "        y_train = sample['label'].float().cuda()\n",
    "        optimizer.zero_grad()\n",
    "        output = model(x_train)\n",
    "        loss = criteria(output, y_train)\n",
    "        loss.backward()\n",
    "        optimizer.step()\n",
    "        cost += loss.item()\n",
    "        total_cost += loss.item()\n",
    "        size += 1\n",
    "        if(i_batch%20==19):\n",
    "            print('[ Epoch: %3d, Mini_Batch:  %4d]     Loss %.3f'%(i+1, i_batch+1, cost/size), end='\\r')\n",
    "            cost = 0.0\n",
    "            size = 0\n",
    "    val_cost = 0.0\n",
    "    for v_batch, sample in enumerate(valloader):\n",
    "        model.eval()\n",
    "        x_train = sample['image'].float().cuda()\n",
    "        y_train = sample['label'].float().cuda()\n",
    "        optimizer.zero_grad()\n",
    "        output = model(x_train)\n",
    "        loss = criteria(output, y_train)\n",
    "        val_cost += loss.item()\n",
    "    print('[ Epoch: %3d ]   Training Loss: %.3f  Val Loss: %.3f'%(i+1, total_cost/(i_batch+1), val_cost/(v_batch+1)))\n",
    "\n",
    "print(\"Finished Training!!!...\")\n",
    "print(\"Time taken: %.4f min...\\n\"%((time.time()-t)/60))"
   ]
  },
  {
   "cell_type": "markdown",
   "metadata": {},
   "source": [
    "##  Accuracy Reading"
   ]
  },
  {
   "cell_type": "code",
   "execution_count": 43,
   "metadata": {},
   "outputs": [
    {
     "name": "stdout",
     "output_type": "stream",
     "text": [
      "Found the csv!!..\n",
      "Found the csv!!..\n",
      "Train Accuracy for 56000 images: 96.35 %\n",
      "Test Accuracy for  2000 images: 92.80 %\n"
     ]
    }
   ],
   "source": [
    "check_train = CatDogDataset(r'dataset\\training_set', r'dataset\\training_set\\training_data.csv', ToTorch())\n",
    "check_test = CatDogDataset(r'dataset\\test_set', r'dataset\\test_set\\test_data.csv', ToTorch())\n",
    "\n",
    "check_dataloader = DataLoader(trainset, batch_size=80)\n",
    "test_data = DataLoader(check_test, batch_size=80)\n",
    "\n",
    "model.eval()\n",
    "correct = 0\n",
    "size = 0\n",
    "for _, sample in enumerate(check_dataloader):\n",
    "    y_predict = model(sample['image'].float().cuda())\n",
    "    y_predict = (y_predict.cpu()>0.5).float()\n",
    "    correct += torch.sum(torch.abs(y_predict-sample['label'].float()))\n",
    "    size += len(y_predict)\n",
    "    \n",
    "train_acc = 100-100*correct/size\n",
    "print(\"Train Accuracy for %5d images: %.2f %%\"%(size, train_acc))\n",
    "\n",
    "model.eval()\n",
    "correct = 0\n",
    "size = 0\n",
    "for _, sample in enumerate(test_data):\n",
    "    y_predict = model(sample['image'].float().cuda())\n",
    "    y_predict = (y_predict.cpu()>0.5).float()\n",
    "    correct += torch.sum(torch.abs(y_predict-sample['label'].float()))\n",
    "    size += len(y_predict)\n",
    "    \n",
    "test_acc = 100-100*correct/size\n",
    "print(\"Test Accuracy for %5d images: %.2f %%\"%(size, test_acc))"
   ]
  },
  {
   "cell_type": "code",
   "execution_count": 78,
   "metadata": {},
   "outputs": [],
   "source": [
    "import winsound\n",
    "\n",
    "winsound.Beep(455, 1800)"
   ]
  },
  {
   "cell_type": "markdown",
   "metadata": {},
   "source": [
    "## Inspect images with low accuracy"
   ]
  },
  {
   "cell_type": "code",
   "execution_count": 35,
   "metadata": {},
   "outputs": [
    {
     "name": "stdout",
     "output_type": "stream",
     "text": [
      "Found the csv!!..\n"
     ]
    }
   ],
   "source": [
    "check_test = CatDogDataset(r'dataset\\test_set', 'test_data.csv', ToTorch())\n",
    "test_data = DataLoader(check_test, batch_size=1)\n",
    "error_image = np.array([])\n",
    "error_label = np.array([])\n",
    "model.eval()\n",
    "for i_batch, sample in enumerate(test_data):\n",
    "    y_predict = model(sample['image'].float().cuda())\n",
    "    y_predict = (y_predict.cpu()>0.5).float()\n",
    "    if(y_predict!=sample['label'].float()):\n",
    "        if len(error_image)==0:\n",
    "            error_image = sample['image'].numpy()\n",
    "            error_label = sample['label'].numpy()\n",
    "        else:\n",
    "            error_image = np.append(error_image, sample['image'].numpy(), axis=0)\n",
    "            error_label = np.append(error_label, sample['label'].numpy(), axis=0)"
   ]
  },
  {
   "cell_type": "code",
   "execution_count": 57,
   "metadata": {},
   "outputs": [
    {
     "name": "stdout",
     "output_type": "stream",
     "text": [
      "0\n"
     ]
    },
    {
     "data": {
      "image/png": "[encoded data removed]",
      "text/plain": [
       "<Figure size 432x288 with 1 Axes>"
      ]
     },
     "metadata": {
      "needs_background": "light"
     },
     "output_type": "display_data"
    }
   ],
   "source": [
    "index = 142\n",
    "plt.imshow(error_image[index].transpose((1,2,0)))\n",
    "print(int(error_label[index]))"
   ]
  },
  {
   "cell_type": "markdown",
   "metadata": {},
   "source": [
    "## Write a model"
   ]
  },
  {
   "cell_type": "code",
   "execution_count": 30,
   "metadata": {},
   "outputs": [],
   "source": [
    "name = 'Model_new_v4'\n",
    "\n",
    "path = os.path.join('Model', name)\n",
    "\n",
    "os.mkdir(path)\n",
    "\n",
    "torch.save(model.state_dict(), os.path.join(path, name))\n",
    "\n",
    "log = ''\n",
    "\n",
    "with open(os.path.join(path, 'Remarks.txt'), 'w') as f:\n",
    "    f.write(\"\\n\\n *******************Model Details******************** \\n\\n\")\n",
    "    \n",
    "    f.write('Train Accuracy: %d%%\\n Test Accuracy: %d%%\\n'%(train_acc, test_acc))\n",
    "    c= ''\n",
    "    f.write('\\n Parameters: \\n\\n')\n",
    "    for par in model.state_dict():\n",
    "        c += str(par)+'\\t'+str(model.state_dict()[par].size())+'\\n'\n",
    "        \n",
    "    f.write(c)\n",
    "    \n",
    "    f.write(\"\\nLast Loss: %.4f\"%(loss.item()))\n",
    "    f.write('\\n\\n'+log)"
   ]
  },
  {
   "cell_type": "markdown",
   "metadata": {},
   "source": [
    "## Reading model"
   ]
  },
  {
   "cell_type": "code",
   "execution_count": 39,
   "metadata": {},
   "outputs": [
    {
     "data": {
      "text/plain": [
       "Net(\n",
       "  (conv1): Conv2d(3, 32, kernel_size=(3, 3), stride=(1, 1))\n",
       "  (batch1): BatchNorm2d(32, eps=1e-05, momentum=0.1, affine=True, track_running_stats=True)\n",
       "  (relu1): ReLU()\n",
       "  (pool1): MaxPool2d(kernel_size=2, stride=2, padding=0, dilation=1, ceil_mode=False)\n",
       "  (conv2): Conv2d(32, 64, kernel_size=(3, 3), stride=(1, 1))\n",
       "  (batch2): BatchNorm2d(64, eps=1e-05, momentum=0.1, affine=True, track_running_stats=True)\n",
       "  (relu2): ReLU()\n",
       "  (pool2): MaxPool2d(kernel_size=2, stride=2, padding=0, dilation=1, ceil_mode=False)\n",
       "  (conv3): Conv2d(64, 128, kernel_size=(3, 3), stride=(1, 1))\n",
       "  (batch3): BatchNorm2d(128, eps=1e-05, momentum=0.1, affine=True, track_running_stats=True)\n",
       "  (relu3): ReLU()\n",
       "  (pool3): MaxPool2d(kernel_size=2, stride=2, padding=0, dilation=1, ceil_mode=False)\n",
       "  (fc1): Linear(in_features=21632, out_features=128, bias=True)\n",
       "  (relu_fc1): ReLU()\n",
       "  (batch_fc1): BatchNorm1d(128, eps=1e-05, momentum=0.1, affine=True, track_running_stats=True)\n",
       "  (fc2): Linear(in_features=128, out_features=80, bias=True)\n",
       "  (relu_fc2): ReLU()\n",
       "  (batch_fc2): BatchNorm1d(80, eps=1e-05, momentum=0.1, affine=True, track_running_stats=True)\n",
       "  (fc3): Linear(in_features=80, out_features=1, bias=True)\n",
       "  (sigmoid): Sigmoid()\n",
       ")"
      ]
     },
     "execution_count": 39,
     "metadata": {},
     "output_type": "execute_result"
    }
   ],
   "source": [
    "model = Net().cuda()\n",
    "model.load_state_dict(torch.load(r'Model\\Model_new_v4\\Model_new_v4'))\n",
    "model.eval()"
   ]
  },
  {
   "cell_type": "code",
   "execution_count": null,
   "metadata": {},
   "outputs": [],
   "source": []
  }
 ],
 "metadata": {
  "kernelspec": {
   "display_name": "Python 3",
   "language": "python",
   "name": "python3"
  },
  "language_info": {
   "codemirror_mode": {
    "name": "ipython",
    "version": 3
   },
   "file_extension": ".py",
   "mimetype": "text/x-python",
   "name": "python",
   "nbconvert_exporter": "python",
   "pygments_lexer": "ipython3",
   "version": "3.7.3"
  }
 },
 "nbformat": 4,
 "nbformat_minor": 2
}
